{
 "cells": [
  {
   "cell_type": "code",
   "execution_count": 1,
   "metadata": {},
   "outputs": [],
   "source": [
    "import numpy as np\n",
    "import matplotlib.pyplot as plt\n",
    "import cv2"
   ]
  },
  {
   "cell_type": "markdown",
   "metadata": {},
   "source": [
    "# 4-連結数"
   ]
  },
  {
   "cell_type": "code",
   "execution_count": 5,
   "metadata": {},
   "outputs": [],
   "source": [
    "def merge4(img):\n",
    "    H,W,C = img.shape\n",
    "    tmp = np.zeros((H, W), dtype=np.int8)\n",
    "    # 二値化\n",
    "    tmp[img[..., 0] > 0] = 1\n",
    "\n",
    "    out = np.zeros((H, W, 3), dtype=np.uint8)\n",
    "    for y in range(H):\n",
    "        for x in range(W):\n",
    "            if tmp[y,x]<1:\n",
    "                continue\n",
    "        \n",
    "            S = 0\n",
    "            S += (tmp[y,min(x+1,W-1)] - tmp[y,min(x+1,W-1)] * tmp[max(y-1,0),min(x+1,W-1)] * tmp[max(y-1,0),x])\n",
    "            S += (tmp[max(y-1,0),x] - tmp[max(y-1,0),x] * tmp[max(y-1,0),max(x-1,0)] * tmp[y,max(x-1,0)])\n",
    "            S += (tmp[y,max(x-1,0)] - tmp[y,max(x-1,0)] * tmp[min(y+1,H-1),max(x-1,0)] * tmp[min(y+1,H-1),x])\n",
    "            S += (tmp[min(y+1,H-1),x] - tmp[min(y+1,H-1),x] * tmp[min(y+1,H-1),min(x+1,W-1)] * tmp[y,min(x+1,W-1)])\n",
    "        \n",
    "            if S == 0:\n",
    "                out[y,x] = [0, 0, 255]\n",
    "            elif S == 1:\n",
    "                out[y,x] = [0, 255, 0]\n",
    "            elif S == 2:\n",
    "                out[y,x] = [255, 0, 0]\n",
    "            elif S == 3:\n",
    "                out[y,x] = [255, 255, 0]\n",
    "            elif S == 4:\n",
    "                out[y,x] = [255, 0, 255]\n",
    "                    \n",
    "    out = out.astype(np.uint8)\n",
    "    return out"
   ]
  },
  {
   "cell_type": "code",
   "execution_count": 6,
   "metadata": {},
   "outputs": [
    {
     "data": {
      "image/png": "[encoded data removed]",
      "text/plain": [
       "<Figure size 432x288 with 1 Axes>"
      ]
     },
     "metadata": {
      "needs_background": "light"
     },
     "output_type": "display_data"
    }
   ],
   "source": [
    "img = cv2.imread(\"./img/renketsu.png\")\n",
    "\n",
    "out = merge4(img)\n",
    "\n",
    "plt.imshow(cv2.cvtColor(out, cv2.COLOR_BGR2RGB))\n",
    "plt.show()"
   ]
  },
  {
   "cell_type": "markdown",
   "metadata": {},
   "source": [
    "# 細線化処理"
   ]
  },
  {
   "cell_type": "code",
   "execution_count": 9,
   "metadata": {},
   "outputs": [],
   "source": [
    "def thinning(img):\n",
    "    H,W,C = img.shape\n",
    "    out = np.zeros((H,W),dtype=np.int8)\n",
    "    # 画像を0or1で表す\n",
    "    out[img[...,0]>0]=1\n",
    "\n",
    "    cnt=1\n",
    "    while(cnt>0):\n",
    "        cnt = 0\n",
    "        tmp = out.copy()\n",
    "        for y in range(H):\n",
    "            for x in range(W):\n",
    "                if out[y,x]<1:\n",
    "                    continue\n",
    "            \n",
    "                c = tmp[max(y-1,0),x]+tmp[y,max(x-1,0)]+tmp[y,min(x+1,W-1)]+tmp[min(y+1,H-1),x]\n",
    "                # 4連結数\n",
    "                S = 0\n",
    "                S += (tmp[y,min(x+1,W-1)] - tmp[y,min(x+1,W-1)] * tmp[max(y-1,0),min(x+1,W-1)] * tmp[max(y-1,0),x])\n",
    "                S += (tmp[max(y-1,0),x] - tmp[max(y-1,0),x] * tmp[max(y-1,0),max(x-1,0)] * tmp[y,max(x-1,0)])\n",
    "                S += (tmp[y,max(x-1,0)] - tmp[y,max(x-1,0)] * tmp[min(y+1,H-1),max(x-1,0)] * tmp[min(y+1,H-1),x])\n",
    "                S += (tmp[min(y+1,H-1),x] - tmp[min(y+1,H-1),x] * tmp[min(y+1,H-1),min(x+1,W-1)] * tmp[y,min(x+1,W-1)])\n",
    "            \n",
    "                v = np.sum(tmp[max(y-1, 0) : min(y+2, H), max(x-1, 0) : min(x+2, W)])\n",
    "            \n",
    "                # 条件(1)\n",
    "                if c<4:\n",
    "                    # 条件(2)\n",
    "                    if S==1:\n",
    "                        # 条件(3)\n",
    "                            if v>=4:\n",
    "                                out[y,x]=0\n",
    "                                cnt+=1\n",
    "\n",
    "    out = out.astype(np.uint8) * 255\n",
    "    return out"
   ]
  },
  {
   "cell_type": "code",
   "execution_count": 10,
   "metadata": {},
   "outputs": [
    {
     "data": {
      "image/png": "[encoded data removed]",
      "text/plain": [
       "<Figure size 432x288 with 2 Axes>"
      ]
     },
     "metadata": {},
     "output_type": "display_data"
    }
   ],
   "source": [
    "img = cv2.imread(\"./img/gazo.png\")\n",
    "out = thinning(img)\n",
    "\n",
    "plt.figure(facecolor=\"white\")\n",
    "plt.subplot(1,2,1)\n",
    "plt.imshow(cv2.cvtColor(img, cv2.COLOR_BGR2RGB))\n",
    "plt.subplot(1,2,2)\n",
    "plt.imshow(cv2.cvtColor(out, cv2.COLOR_BGR2RGB))\n",
    "plt.show()"
   ]
  },
  {
   "cell_type": "markdown",
   "metadata": {},
   "source": [
    "# ヒルディッチの細線化"
   ]
  },
  {
   "cell_type": "code",
   "execution_count": 13,
   "metadata": {},
   "outputs": [],
   "source": [
    "def hilditch_thinning(img):\n",
    "    H,W,C = img.shape\n",
    "    out = np.zeros((H,W),dtype=np.int8)\n",
    "    # 画像を0or1で表す\n",
    "    out[img[...,0]>0]=1\n",
    "\n",
    "    cnt=1\n",
    "    while(cnt>0):\n",
    "        cnt = 0\n",
    "        tmp = out.copy()\n",
    "        for y in range(H):\n",
    "            for x in range(W):\n",
    "                judge=0\n",
    "                if out[y,x]<1:\n",
    "                    continue\n",
    "                \n",
    "                # 4近傍の1の数をカウント\n",
    "                v = tmp[max(y-1,0),x]+tmp[y,max(x-1,0)]+tmp[y,min(x+1,W-1)]+tmp[min(y+1,H-1),x]\n",
    "                \n",
    "                # 8連結数\n",
    "                S = 0\n",
    "                S += (tmp[y,min(x+1,W-1)] - tmp[y,min(x+1,W-1)] * tmp[max(y-1,0),min(x+1,W-1)] * tmp[max(y-1,0),x])\n",
    "                S += (tmp[max(y-1,0),x] - tmp[max(y-1,0),x] * tmp[max(y-1,0),max(x-1,0)] * tmp[y,max(x-1,0)])\n",
    "                S += (tmp[y,max(x-1,0)] - tmp[y,max(x-1,0)] * tmp[min(y+1,H-1),max(x-1,0)] * tmp[min(y+1,H-1),x])\n",
    "                S += (tmp[min(y+1,H-1),x] - tmp[min(y+1,H-1),x] * tmp[min(y+1,H-1),min(x+1,W-1)] * tmp[y,min(x+1,W-1)])\n",
    "                \n",
    "                # x1~x8の絶対値の和\n",
    "                t = np.sum(tmp[max(y-1, 0) : min(y+2, H), max(x-1, 0) : min(x+2, W)])\n",
    "                \n",
    "                # 8近傍の1の数をカウント\n",
    "                u = np.sum(tmp[max(y-1, 0) : min(y+2, H), max(x-1, 0) : min(x+2, W)])\n",
    "                \n",
    "                _tmp2 = 1 - out\n",
    "\n",
    "                c = 0\n",
    "                c += (_tmp2[y, min(x+1, W-1)] - _tmp2[y, min(x+1, W-1)] * _tmp2[max(y-1, 0), min(x+1, W-1)] * _tmp2[max(y-1, 0), x])\n",
    "                c += (_tmp2[max(y-1, 0), x] - _tmp2[max(y-1, 0), x] * (1 - tmp[max(y-1, 0), max(x-1, 0)]) * _tmp2[y, max(x-1, 0)])\n",
    "                c += (_tmp2[y, max(x-1, 0)] - _tmp2[y, max(x-1, 0)] * _tmp2[min(y+1, H-1), max(x-1, 0)] * _tmp2[min(y+1, H-1), x])\n",
    "                c += (_tmp2[min(y+1, H-1), x] - _tmp2[min(y+1, H-1), x] * _tmp2[min(y+1, H-1), min(x+1, W-1)] * _tmp2[y, min(x+1, W-1)])\n",
    "                if c == 1 or (out[max(y-1, 0), max(x-1,0 )] != tmp[max(y-1, 0), max(x-1, 0)]):\n",
    "                    judge += 1\n",
    "\n",
    "                c = 0\n",
    "                c += (_tmp2[y, min(x+1, W-1)] - _tmp2[y, min(x+1, W-1)] * _tmp2[max(y-1, 0), min(x+1, W-1)] * (1 - tmp[max(y-1, 0), x]))\n",
    "                c += ((1-tmp[max(y-1, 0), x]) - (1 - tmp[max(y-1, 0), x]) * _tmp2[max(y-1, 0), max(x-1, 0)] * _tmp2[y, max(x-1, 0)])\n",
    "                c += (_tmp2[y, max(x-1,0 )] - _tmp2[y, max(x-1,0 )] * _tmp2[min(y+1, H-1), max(x-1, 0)] * _tmp2[min(y+1, H-1), x])\n",
    "                c += (_tmp2[min(y+1, H-1), x] - _tmp2[min(y+1, H-1), x] * _tmp2[min(y+1, H-1), min(x+1, W-1)] * _tmp2[y, min(x+1, W-1)])\n",
    "                if c == 1 or (out[max(y-1, 0), x] != tmp[max(y-1, 0), x]):\n",
    "                    judge += 1\n",
    "\n",
    "                c = 0\n",
    "                c += (_tmp2[y, min(x+1, W-1)] - _tmp2[y, min(x+1, W-1)] * (1 - tmp[max(y-1, 0), min(x+1, W-1)]) * _tmp2[max(y-1, 0), x])\n",
    "                c += (_tmp2[max(y-1, 0), x] - _tmp2[max(y-1, 0), x] * _tmp2[max(y-1, 0), max(x-1, 0)] * _tmp2[y, max(x-1, 0)])\n",
    "                c += (_tmp2[y, max(x-1, 0)] - _tmp2[y, max(x-1, 0)] * _tmp2[min(y+1, H-1), max(x-1, 0)] * _tmp2[min(y+1, H-1), x])\n",
    "                c += (_tmp2[min(y+1, H-1), x] - _tmp2[min(y+1, H-1), x] * _tmp2[min(y+1, H-1), min(x+1, W-1)] * _tmp2[y, min(x+1, W-1)])\n",
    "                if c == 1 or (out[max(y-1, 0), min(x+1, W-1)] != tmp[max(y-1, 0), min(x+1, W-1)]):\n",
    "                    judge += 1\n",
    "\n",
    "                c = 0\n",
    "                c += (_tmp2[y, min(x+1, W-1)] - _tmp2[y, min(x+1, W-1)] * _tmp2[max(y-1, 0), min(x+1, W-1)] * _tmp2[max(y-1, 0), x])\n",
    "                c += (_tmp2[max(y-1, 0), x] - _tmp2[max(y-1, 0), x] * _tmp2[max(y-1, 0), max(x-1, 0)] * (1 - tmp[y, max(x-1, 0)]))\n",
    "                c += ((1 - tmp[y, max(x-1, 0)]) - (1 - tmp[y, max(x-1, 0)]) * _tmp2[min(y+1, H-1), max(x-1, 0)] * _tmp2[min(y+1, H-1), x])\n",
    "                c += (_tmp2[min(y+1, H-1), x] - _tmp2[min(y+1, H-1), x] * _tmp2[min(y+1, H-1), min(x+1, W-1)] * _tmp2[y, min(x+1, W-1)])\n",
    "                if c == 1 or (out[y, max(x-1, 0)] != tmp[y, max(x-1, 0)]):\n",
    "                    judge += 1\n",
    "                        \n",
    "                if v<4:\n",
    "                    judge+=1\n",
    "                if S==1:\n",
    "                    judge+=1\n",
    "                if t>=3:\n",
    "                    judge+=1\n",
    "                if u>=2:\n",
    "                    judge+=1\n",
    "                    \n",
    "                if judge >= 8:\n",
    "                    out[y, x] = 0\n",
    "                    cnt += 1\n",
    "\n",
    "    out = out.astype(np.uint8) * 255\n",
    "    return out"
   ]
  },
  {
   "cell_type": "code",
   "execution_count": 14,
   "metadata": {},
   "outputs": [
    {
     "data": {
      "image/png": "[encoded data removed]",
      "text/plain": [
       "<Figure size 432x288 with 2 Axes>"
      ]
     },
     "metadata": {},
     "output_type": "display_data"
    }
   ],
   "source": [
    "img = cv2.imread(\"./img/gazo.png\")\n",
    "out = hilditch_thinning(img)\n",
    "\n",
    "plt.figure(facecolor=\"white\")\n",
    "plt.subplot(1,2,1)\n",
    "plt.imshow(cv2.cvtColor(img, cv2.COLOR_BGR2RGB))\n",
    "plt.subplot(1,2,2)\n",
    "plt.imshow(cv2.cvtColor(out, cv2.COLOR_BGR2RGB))\n",
    "plt.show()"
   ]
  },
  {
   "cell_type": "code",
   "execution_count": null,
   "metadata": {},
   "outputs": [],
   "source": []
  }
 ],
 "metadata": {
  "kernelspec": {
   "display_name": "Python 3",
   "language": "python",
   "name": "python3"
  },
  "language_info": {
   "codemirror_mode": {
    "name": "ipython",
    "version": 3
   },
   "file_extension": ".py",
   "mimetype": "text/x-python",
   "name": "python",
   "nbconvert_exporter": "python",
   "pygments_lexer": "ipython3",
   "version": "3.8.5"
  },
  "toc": {
   "base_numbering": 1,
   "nav_menu": {},
   "number_sections": true,
   "sideBar": true,
   "skip_h1_title": false,
   "title_cell": "Table of Contents",
   "title_sidebar": "Contents",
   "toc_cell": false,
   "toc_position": {},
   "toc_section_display": true,
   "toc_window_display": false
  }
 },
 "nbformat": 4,
 "nbformat_minor": 4
}
