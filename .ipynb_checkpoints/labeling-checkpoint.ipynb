{
 "cells": [
  {
   "cell_type": "code",
   "execution_count": 1,
   "metadata": {},
   "outputs": [],
   "source": [
    "import numpy as np\n",
    "import matplotlib.pyplot as plt\n",
    "import cv2"
   ]
  },
  {
   "cell_type": "markdown",
   "metadata": {},
   "source": [
    "# 4近傍ラベリング"
   ]
  },
  {
   "cell_type": "code",
   "execution_count": 17,
   "metadata": {},
   "outputs": [],
   "source": [
    "def labeling(img):\n",
    "    out_label = np.zeros_like(img)\n",
    "    H,W = img.shape\n",
    "    labeling_counter = 0\n",
    "\n",
    "    # ラスタスキャン\n",
    "    for y in range(H):\n",
    "        for x in range(W):\n",
    "            if img[y,x]==255:\n",
    "                up_gaso=0\n",
    "                left_gaso=0\n",
    "                # 上下の画素を取り出す\n",
    "                if y!=0:\n",
    "                    up_gaso = img[y-1,x]\n",
    "\n",
    "                if x!=0:\n",
    "                    left_gaso = img[y,x-1]\n",
    "\n",
    "                # どちらも0のとき\n",
    "                if max(up_gaso,left_gaso)==0:\n",
    "                    labeling_counter+=1\n",
    "                    out_label[y,x]=labeling_counter\n",
    "                # どちらかが255のとき\n",
    "                else:\n",
    "                    left_label=0\n",
    "                    up_label=0\n",
    "                    if x!=0:\n",
    "                        left_label = out_label[y,x-1]\n",
    "                    if y!=0:\n",
    "                        up_label = out_label[y-1,x]\n",
    "                \n",
    "                    if left_label==0 and up_label!=0:\n",
    "                        out_label[y,x] = up_label\n",
    "                    elif up_label==0 and left_label!=0:\n",
    "                        out_label[y,x] = left_label\n",
    "                    elif up_label!=0 and left_label!=0:\n",
    "                        out_label[y,x] = min(up_label,left_label)\n",
    "                    \n",
    "    # 隣接しているノードを統合する\n",
    "    for y in range(H):\n",
    "        for x in range(W-1):\n",
    "            left_label = out_label[y,x]\n",
    "            right_label = out_label[y,x+1]\n",
    "            if min(left_label,right_label)!=0 and left_label!=right_label:\n",
    "                out_label[out_label==right_label] = left_label\n",
    "                labeling_counter-=1\n",
    "                    \n",
    "    print(\"labeling counter : \"+str(labeling_counter))\n",
    "    label_list = np.unique(out_label)\n",
    "\n",
    "    COLORS = [[0, 0, 255], [0, 255, 0], [255, 0, 0], [255, 255, 0]]\n",
    "    out = np.zeros((H, W, 3), dtype=np.uint8)\n",
    "\n",
    "    for i in range(labeling_counter):\n",
    "        out[out_label == label_list[i+1]] = COLORS[i]\n",
    "        \n",
    "    return out_label,out"
   ]
  },
  {
   "cell_type": "code",
   "execution_count": 18,
   "metadata": {},
   "outputs": [
    {
     "name": "stdout",
     "output_type": "stream",
     "text": [
      "labeling counter : 4\n"
     ]
    },
    {
     "data": {
      "image/png": "[encoded data removed]",
      "text/plain": [
       "<Figure size 432x288 with 1 Axes>"
      ]
     },
     "metadata": {
      "needs_background": "light"
     },
     "output_type": "display_data"
    }
   ],
   "source": [
    "img = cv2.imread(\"./img/seg.png\")\n",
    "# 1次元にする処理\n",
    "img = img[:,:,0]\n",
    "\n",
    "out_label,out = labeling(img)\n",
    "plt.imshow(cv2.cvtColor(out, cv2.COLOR_BGR2RGB))\n",
    "plt.show()"
   ]
  },
  {
   "cell_type": "code",
   "execution_count": null,
   "metadata": {},
   "outputs": [],
   "source": []
  }
 ],
 "metadata": {
  "kernelspec": {
   "display_name": "Python 3",
   "language": "python",
   "name": "python3"
  },
  "language_info": {
   "codemirror_mode": {
    "name": "ipython",
    "version": 3
   },
   "file_extension": ".py",
   "mimetype": "text/x-python",
   "name": "python",
   "nbconvert_exporter": "python",
   "pygments_lexer": "ipython3",
   "version": "3.8.5"
  },
  "toc": {
   "base_numbering": 1,
   "nav_menu": {},
   "number_sections": true,
   "sideBar": true,
   "skip_h1_title": false,
   "title_cell": "Table of Contents",
   "title_sidebar": "Contents",
   "toc_cell": false,
   "toc_position": {},
   "toc_section_display": true,
   "toc_window_display": false
  }
 },
 "nbformat": 4,
 "nbformat_minor": 4
}
