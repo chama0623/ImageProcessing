{
 "cells": [
  {
   "cell_type": "markdown",
   "metadata": {},
   "source": [
    "# データセットの準備と前処理 "
   ]
  },
  {
   "cell_type": "markdown",
   "metadata": {},
   "source": [
    "## dataフォルダとweightsフォルダの作成"
   ]
  },
  {
   "cell_type": "code",
   "execution_count": 1,
   "metadata": {},
   "outputs": [],
   "source": [
    "import os\n",
    "data_dir = \"./data/\"\n",
    "weights_dir = \"./weights/\"\n",
    "\n",
    "if not os.path.exists(data_dir): # すでにdataフォルダが存在しないなら\n",
    "    os.mkdir(data_dir)\n",
    "    \n",
    "if not os.path.exists(weights_dir):\n",
    "    os.mkdir(weights_dir)"
   ]
  },
  {
   "cell_type": "markdown",
   "metadata": {},
   "source": [
    "## VOC2012のダウンロードと解凍"
   ]
  },
  {
   "cell_type": "code",
   "execution_count": 2,
   "metadata": {},
   "outputs": [
    {
     "name": "stdout",
     "output_type": "stream",
     "text": [
      "CPU times: user 23.8 s, sys: 54.5 s, total: 1min 18s\n",
      "Wall time: 1h 22min 23s\n"
     ]
    }
   ],
   "source": [
    "%%time\n",
    "\n",
    "import urllib.request\n",
    "import tarfile\n",
    "\n",
    "url = \"http://host.robots.ox.ac.uk/pascal/VOC/voc2012/VOCtrainval_11-May-2012.tar\"\n",
    "target_path = os.path.join(data_dir,\"VOCtrainval_11-May-2012.tar\") # 保存先\n",
    "\n",
    "if not os.path.exists(target_path):\n",
    "    urllib.request.urlretrieve(url,target_path)\n",
    "    tar = tarfile.TarFile(target_path) # open tar file\n",
    "    tar.extractall(data_dir) # unfreeze tar file\n",
    "    tar.close() # close tar file"
   ]
  },
  {
   "cell_type": "markdown",
   "metadata": {},
   "source": [
    "## VGG16, SSD300の学習済み思いのダウンロード"
   ]
  },
  {
   "cell_type": "code",
   "execution_count": 3,
   "metadata": {},
   "outputs": [
    {
     "name": "stdout",
     "output_type": "stream",
     "text": [
      "CPU times: user 1.97 s, sys: 4.21 s, total: 6.18 s\n",
      "Wall time: 5min 1s\n"
     ]
    }
   ],
   "source": [
    "%%time\n",
    "\n",
    "# VGG16\n",
    "url = \"https://s3.amazonaws.com/amdegroot-models/vgg16_reducedfc.pth\"\n",
    "target_path = os.path.join(weights_dir, \"vgg16_reducedfc.pth\")\n",
    "\n",
    "if not os.path.exists(target_path):\n",
    "    urllib.request.urlretrieve(url, target_path)\n",
    "    \n",
    "# SSD300\n",
    "url = \"https://s3.amazonaws.com/amdegroot-models/ssd300_mAP_77.43_v2.pth\"\n",
    "target_path = os.path.join(weights_dir, \"ssd300_mAP_77.43_v2.pth\")\n",
    "\n",
    "if not os.path.exists(target_path):\n",
    "    urllib.request.urlretrieve(url, target_path)"
   ]
  },
  {
   "cell_type": "markdown",
   "metadata": {},
   "source": [
    "作業の確認  \n",
    "ダウンロードしたVOC2012データセットの内容について説明する. このデータセットは人, 動物, 車両, 屋内の計20クラス, 合計9963枚の画像から構成される.\n",
    "訓練用と検証用の画像はdata/VOCdevkit/VOC2012/JPEGImages, アノテーションデータはdata/VOCdevkit/VOC2012/Annotationsに格納されている. この中で訓練用のファイルはdata/VOCdevkit/VOC2012/Main/train.txt, 検証用ファイルはdata/VOCdevkit/VOC2012/Main/val.txtにまとめられている. "
   ]
  }
 ],
 "metadata": {
  "kernelspec": {
   "display_name": "Python 3.8.10 64-bit",
   "language": "python",
   "name": "python3"
  },
  "language_info": {
   "codemirror_mode": {
    "name": "ipython",
    "version": 3
   },
   "file_extension": ".py",
   "mimetype": "text/x-python",
   "name": "python",
   "nbconvert_exporter": "python",
   "pygments_lexer": "ipython3",
   "version": "3.8.10"
  },
  "orig_nbformat": 4,
  "vscode": {
   "interpreter": {
    "hash": "916dbcbb3f70747c44a77c7bcd40155683ae19c65e1c03b4aa3499c5328201f1"
   }
  }
 },
 "nbformat": 4,
 "nbformat_minor": 2
}
