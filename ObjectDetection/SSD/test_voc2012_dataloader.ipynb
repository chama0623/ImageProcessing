{
 "cells": [
  {
   "cell_type": "markdown",
   "metadata": {},
   "source": [
    "## make_filepath_list関数のテスト"
   ]
  },
  {
   "cell_type": "code",
   "execution_count": 1,
   "metadata": {},
   "outputs": [
    {
     "name": "stdout",
     "output_type": "stream",
     "text": [
      "./data/VOCdevkit/VOC2012/JPEGImages/2008_000008.jpg\n",
      "./data/VOCdevkit/VOC2012/Annotations/2008_000008.xml\n",
      "./data/VOCdevkit/VOC2012/JPEGImages/2008_000002.jpg\n",
      "./data/VOCdevkit/VOC2012/Annotations/2008_000002.xml\n"
     ]
    }
   ],
   "source": [
    "from voc import make_filepath_list\n",
    "\n",
    "rootpath = \"./data/VOCdevkit/VOC2012/\"\n",
    "\n",
    "train_img, train_anno, val_img, val_anno = make_filepath_list(rootpath)\n",
    "\n",
    "print(train_img[0])\n",
    "print(train_anno[0])\n",
    "print(val_img[0])\n",
    "print(val_anno[0])"
   ]
  },
  {
   "cell_type": "markdown",
   "metadata": {},
   "source": [
    "## GetBBoxAndLabelクラスのテスト"
   ]
  },
  {
   "cell_type": "code",
   "execution_count": 2,
   "metadata": {},
   "outputs": [
    {
     "data": {
      "text/plain": [
       "array([[ 0.09      ,  0.03003003,  0.998     ,  0.996997  , 18.        ],\n",
       "       [ 0.122     ,  0.56756757,  0.164     ,  0.72672673, 14.        ]])"
      ]
     },
     "execution_count": 2,
     "metadata": {},
     "output_type": "execute_result"
    }
   ],
   "source": [
    "import cv2\n",
    "from voc import GetBBoxAndLabel\n",
    "\n",
    "voc_labels = [\"aeroplane\", \"bicycle\", \"bird\", \"boat\", \"bottle\",\n",
    "              \"bus\", \"car\", \"cat\", \"chair\", \"cow\",\n",
    "              \"diningtable\", \"dog\", \"horse\", \"motorbike\",\n",
    "              \"person\", \"pottedplant\", \"sheep\", \"sofa\", \"train\",\n",
    "              \"tvmonitor\"]\n",
    "\n",
    "annotation = GetBBoxAndLabel(voc_labels)\n",
    "# validationのindex 1を読み込んでみる\n",
    "index = 1\n",
    "img_path = val_img[index]\n",
    "img = cv2.imread(img_path)\n",
    "\n",
    "height, width, _ = img.shape\n",
    "\n",
    "annotation(val_anno[index], width, height)"
   ]
  },
  {
   "cell_type": "markdown",
   "metadata": {},
   "source": [
    "確認 : validationの2つ目のデータは2つのオブジェクトが存在するためアノテーションリストには2つのデータが追加される. またBBoxのパラメータは0~1に正規化される."
   ]
  },
  {
   "cell_type": "markdown",
   "metadata": {},
   "source": []
  }
 ],
 "metadata": {
  "kernelspec": {
   "display_name": "Python 3.8.10 64-bit",
   "language": "python",
   "name": "python3"
  },
  "language_info": {
   "codemirror_mode": {
    "name": "ipython",
    "version": 3
   },
   "file_extension": ".py",
   "mimetype": "text/x-python",
   "name": "python",
   "nbconvert_exporter": "python",
   "pygments_lexer": "ipython3",
   "version": "3.8.10"
  },
  "orig_nbformat": 4,
  "vscode": {
   "interpreter": {
    "hash": "916dbcbb3f70747c44a77c7bcd40155683ae19c65e1c03b4aa3499c5328201f1"
   }
  }
 },
 "nbformat": 4,
 "nbformat_minor": 2
}
