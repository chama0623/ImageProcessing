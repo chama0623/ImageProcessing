{
 "cells": [
  {
   "cell_type": "code",
   "execution_count": 1,
   "metadata": {},
   "outputs": [
    {
     "name": "stdout",
     "output_type": "stream",
     "text": [
      "./data/VOCdevkit/VOC2012/JPEGImages/2008_000008.jpg\n",
      "./data/VOCdevkit/VOC2012/Annotations/2008_000008.xml\n",
      "./data/VOCdevkit/VOC2012/JPEGImages/2008_000002.jpg\n",
      "./data/VOCdevkit/VOC2012/Annotations/2008_000002.xml\n"
     ]
    }
   ],
   "source": [
    "from voc import make_filepath_list\n",
    "\n",
    "rootpath = \"./data/VOCdevkit/VOC2012/\"\n",
    "\n",
    "train_img, train_anno, val_img, val_anno = make_filepath_list(rootpath)\n",
    "\n",
    "print(train_img[0])\n",
    "print(train_anno[0])\n",
    "print(val_img[0])\n",
    "print(val_anno[0])"
   ]
  },
  {
   "cell_type": "code",
   "execution_count": null,
   "metadata": {},
   "outputs": [],
   "source": []
  }
 ],
 "metadata": {
  "kernelspec": {
   "display_name": "Python 3.8.10 64-bit",
   "language": "python",
   "name": "python3"
  },
  "language_info": {
   "codemirror_mode": {
    "name": "ipython",
    "version": 3
   },
   "file_extension": ".py",
   "mimetype": "text/x-python",
   "name": "python",
   "nbconvert_exporter": "python",
   "pygments_lexer": "ipython3",
   "version": "3.8.10"
  },
  "orig_nbformat": 4,
  "vscode": {
   "interpreter": {
    "hash": "916dbcbb3f70747c44a77c7bcd40155683ae19c65e1c03b4aa3499c5328201f1"
   }
  }
 },
 "nbformat": 4,
 "nbformat_minor": 2
}
